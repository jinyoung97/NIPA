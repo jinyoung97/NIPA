{
 "cells": [
  {
   "cell_type": "code",
   "execution_count": 64,
   "metadata": {},
   "outputs": [
    {
     "name": "stdout",
     "output_type": "stream",
     "text": [
      "   index     name  age  salary\n",
      "0      0    Alice   25   50000\n",
      "1      1      Bob   30   60000\n",
      "2      2  Charlie   35   70000\n",
      "3      3    james   30  400000\n",
      "4      4    Alice   25   50000\n",
      "5      5      Bob   30   60000\n",
      "6      6  Charlie   35   70000\n",
      "7      7    james   30  400000\n"
     ]
    }
   ],
   "source": [
    "import pandas as pd\n",
    "\n",
    "#my_data.csv 읽어오기\n",
    "df = pd.read_csv('my_data.csv')\n",
    "\n",
    "#Unnamed: 0 이름 변경\n",
    "df.rename(columns = {'Unnamed: 0':'index'}, inplace = True)\n",
    "\n",
    "print(df)"
   ]
  },
  {
   "cell_type": "code",
   "execution_count": 65,
   "metadata": {},
   "outputs": [
    {
     "name": "stdout",
     "output_type": "stream",
     "text": [
      "      name  age  salary\n",
      "0    Alice   25   50000\n",
      "1      Bob   30   60000\n",
      "2  Charlie   35   70000\n",
      "3    james   30  400000\n",
      "4    Alice   25   50000\n",
      "5      Bob   30   60000\n",
      "6  Charlie   35   70000\n",
      "7    james   30  400000\n"
     ]
    }
   ],
   "source": [
    "#Unnamed: 0 이름 변경 열 삭제\n",
    "df.drop(columns={'index'}, axis='columns', inplace=True)\n",
    "\n",
    "print(df)"
   ]
  },
  {
   "cell_type": "code",
   "execution_count": 68,
   "metadata": {},
   "outputs": [
    {
     "name": "stdout",
     "output_type": "stream",
     "text": [
      "  name  age   salary\n",
      "0  엘리스   25   50,000\n",
      "1    밥   30   60,000\n",
      "2   찰리   35   70,000\n",
      "3  제임스   30  400,000\n",
      "4  엘리스   25   50,000\n",
      "5    밥   30   60,000\n",
      "6   찰리   35   70,000\n",
      "7  제임스   30  400,000\n"
     ]
    }
   ],
   "source": [
    "#영문 이름 변경\n",
    "df['name'] = ['엘리스','밥','찰리','제임스','엘리스','밥','찰리','제임스']\n",
    "\n",
    "print(df)"
   ]
  },
  {
   "cell_type": "code",
   "execution_count": 67,
   "metadata": {},
   "outputs": [
    {
     "name": "stdout",
     "output_type": "stream",
     "text": [
      "  name  age   salary\n",
      "0  엘리스   25   50,000\n",
      "1    밥   30   60,000\n",
      "2   찰리   35   70,000\n",
      "3  제임스   30  400,000\n",
      "4  엘리스   25   50,000\n",
      "5    밥   30   60,000\n",
      "6   찰리   35   70,000\n",
      "7  제임스   30  400,000\n"
     ]
    }
   ],
   "source": [
    "# 급여 숫자를 000 세자리 단위로 콤마를 넣어서 변경\n",
    "df['salary'] = df['salary'].map('{:,.0f}'.format)\n",
    "\n",
    "print(df)"
   ]
  },
  {
   "cell_type": "code",
   "execution_count": 69,
   "metadata": {},
   "outputs": [],
   "source": [
    "df.to_csv('modified_my_data.csv')"
   ]
  }
 ],
 "metadata": {
  "kernelspec": {
   "display_name": "Python 3",
   "language": "python",
   "name": "python3"
  },
  "language_info": {
   "codemirror_mode": {
    "name": "ipython",
    "version": 3
   },
   "file_extension": ".py",
   "mimetype": "text/x-python",
   "name": "python",
   "nbconvert_exporter": "python",
   "pygments_lexer": "ipython3",
   "version": "3.11.4"
  },
  "orig_nbformat": 4
 },
 "nbformat": 4,
 "nbformat_minor": 2
}
